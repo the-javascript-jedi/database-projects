{
 "cells": [
  {
   "cell_type": "markdown",
   "id": "3dc5cae0",
   "metadata": {},
   "source": [
    "# MongoDB Operators\n",
    "\n",
    "Go over the usage of common operators within pymongo queries"
   ]
  },
  {
   "cell_type": "code",
   "execution_count": null,
   "id": "0c683e75",
   "metadata": {},
   "outputs": [],
   "source": [
    "import pymongo\n",
    "from pymongo import MongoClient"
   ]
  },
  {
   "cell_type": "markdown",
   "id": "5fd1cbd3",
   "metadata": {},
   "source": [
    "### Initalize A Client, Connect To DB, Speicfy Collection"
   ]
  },
  {
   "cell_type": "code",
   "execution_count": null,
   "id": "2671ea67",
   "metadata": {},
   "outputs": [],
   "source": [
    "client = MongoClient(\"mongodb://localhost:27017/\")\n",
    "db = client[\"my_store\"]\n",
    "products_col = db[\"products\"]"
   ]
  },
  {
   "cell_type": "markdown",
   "id": "0e1c6bd0",
   "metadata": {},
   "source": [
    "### Helper Function to print all entries in a cursor"
   ]
  },
  {
   "cell_type": "code",
   "execution_count": null,
   "id": "2112912d",
   "metadata": {},
   "outputs": [],
   "source": [
    "def print_cursor(cursor):\n",
    "    for document in cursor:\n",
    "        print(document)"
   ]
  },
  {
   "cell_type": "markdown",
   "id": "722f39ae",
   "metadata": {},
   "source": [
    "### Comparison Operators"
   ]
  },
  {
   "cell_type": "markdown",
   "id": "6cf43416",
   "metadata": {},
   "source": [
    "###### $lt - Less Than"
   ]
  },
  {
   "cell_type": "code",
   "execution_count": null,
   "id": "4e6b4f49",
   "metadata": {},
   "outputs": [],
   "source": []
  },
  {
   "cell_type": "markdown",
   "id": "de88b1cc",
   "metadata": {},
   "source": [
    "###### $gte - Greater Than or Equal To (combined with another operator)"
   ]
  },
  {
   "cell_type": "code",
   "execution_count": null,
   "id": "a19644da",
   "metadata": {},
   "outputs": [],
   "source": []
  },
  {
   "cell_type": "markdown",
   "id": "9171a17c",
   "metadata": {},
   "source": [
    "###### $ne - Not Equal To (combined with another operator)"
   ]
  },
  {
   "cell_type": "code",
   "execution_count": null,
   "id": "088877c5",
   "metadata": {},
   "outputs": [],
   "source": []
  },
  {
   "cell_type": "markdown",
   "id": "d1d17085",
   "metadata": {},
   "source": [
    "### Logical Operators"
   ]
  },
  {
   "cell_type": "markdown",
   "id": "519965f4",
   "metadata": {},
   "source": [
    "##### $and"
   ]
  },
  {
   "cell_type": "code",
   "execution_count": null,
   "id": "e6ada04a",
   "metadata": {},
   "outputs": [],
   "source": []
  },
  {
   "cell_type": "markdown",
   "id": "4f4dcd05",
   "metadata": {},
   "source": [
    "###### $or"
   ]
  },
  {
   "cell_type": "code",
   "execution_count": null,
   "id": "75843aa5",
   "metadata": {},
   "outputs": [],
   "source": []
  },
  {
   "cell_type": "markdown",
   "id": "6ff7f1b7",
   "metadata": {},
   "source": [
    "###### $nor"
   ]
  },
  {
   "cell_type": "code",
   "execution_count": null,
   "id": "e98ddcac",
   "metadata": {},
   "outputs": [],
   "source": []
  },
  {
   "cell_type": "markdown",
   "id": "889ab4dc",
   "metadata": {},
   "source": [
    "###### $type"
   ]
  },
  {
   "cell_type": "code",
   "execution_count": null,
   "id": "b180fc9c",
   "metadata": {},
   "outputs": [],
   "source": []
  },
  {
   "cell_type": "markdown",
   "id": "63be37d8",
   "metadata": {},
   "source": [
    "### Other Useful Operators"
   ]
  },
  {
   "cell_type": "markdown",
   "id": "365bcbf5",
   "metadata": {},
   "source": [
    "###### $exists - Check if a attribute name exists in entries"
   ]
  },
  {
   "cell_type": "code",
   "execution_count": null,
   "id": "d88290c3",
   "metadata": {},
   "outputs": [],
   "source": []
  },
  {
   "cell_type": "markdown",
   "id": "66c134aa",
   "metadata": {},
   "source": [
    "#####  $regex - Search for substring within query entries"
   ]
  },
  {
   "cell_type": "code",
   "execution_count": null,
   "id": "d84cae79",
   "metadata": {},
   "outputs": [],
   "source": []
  },
  {
   "cell_type": "code",
   "execution_count": null,
   "id": "a69852a8",
   "metadata": {},
   "outputs": [],
   "source": []
  }
 ],
 "metadata": {
  "kernelspec": {
   "display_name": "Python 3 (ipykernel)",
   "language": "python",
   "name": "python3"
  },
  "language_info": {
   "codemirror_mode": {
    "name": "ipython",
    "version": 3
   },
   "file_extension": ".py",
   "mimetype": "text/x-python",
   "name": "python",
   "nbconvert_exporter": "python",
   "pygments_lexer": "ipython3",
   "version": "3.8.11"
  }
 },
 "nbformat": 4,
 "nbformat_minor": 5
}
