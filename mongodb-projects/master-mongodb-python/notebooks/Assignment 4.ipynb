{
 "cells": [
  {
   "cell_type": "markdown",
   "id": "0e5f3614",
   "metadata": {},
   "source": [
    "Use the model file from the last assignment and create an aggregation pipeline that will retrieve the top 3 salaries sort them in descending order\n",
    "\n",
    "and loop through them to print the employee first name and the department"
   ]
  },
  {
   "cell_type": "code",
   "execution_count": null,
   "id": "7119ab82",
   "metadata": {},
   "outputs": [],
   "source": [
    "from mongoengine import *\n",
    "from model import *\n",
    "\n",
    "\n",
    "connect()\n",
    "\n",
    "pipeline = [\n",
    "    {\n",
    "        '$sort': {\n",
    "            'salary': -1\n",
    "        }\n",
    "    }, {\n",
    "        '$limit': 3\n",
    "    }\n",
    "]\n",
    "top_3_emp = list(Employee.objects().aggregate(pipeline))\n",
    "\n",
    "for emp in top_3_emp:\n",
    "    dept = Department.objects(id=emp['department']).first()\n",
    "    print(emp['first_name'], dept.name)"
   ]
  }
 ],
 "metadata": {
  "kernelspec": {
   "display_name": "Python 3 (ipykernel)",
   "language": "python",
   "name": "python3"
  },
  "language_info": {
   "codemirror_mode": {
    "name": "ipython",
    "version": 3
   },
   "file_extension": ".py",
   "mimetype": "text/x-python",
   "name": "python",
   "nbconvert_exporter": "python",
   "pygments_lexer": "ipython3",
   "version": "3.10.9"
  }
 },
 "nbformat": 4,
 "nbformat_minor": 5
}
