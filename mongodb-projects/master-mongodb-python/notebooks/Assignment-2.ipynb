{
 "cells": [
  {
   "cell_type": "markdown",
   "metadata": {},
   "source": [
    "## Assignment 2\n",
    "\n",
    "With the Employee class created last assignment\n",
    "\n",
    "Create a new collection named Department with attributes\n",
    "\n",
    "department_name and benefits\n",
    "\n",
    "Department name should be a string\n",
    "\n",
    "benefits should be a list of benefits as a string\n",
    "\n",
    "\n",
    "\n",
    "create the appropriate relationship with the Employee collection\n",
    "\n",
    "each employee should have a department field referring to the  department\n",
    "\n",
    "make sure that when a Department is deleted the employee is not deleted\n",
    "\n",
    "create department IT with benefits Mobile Allowance and Medical insurance\n",
    "\n",
    "create an employee in that department\n",
    "\n",
    "delete the department and check if the employee still exists"
   ]
  },
  {
   "cell_type": "markdown",
   "metadata": {},
   "source": [
    "# Creating Documents"
   ]
  },
  {
   "cell_type": "code",
   "execution_count": 1,
   "metadata": {},
   "outputs": [],
   "source": [
    "from mongoengine import *"
   ]
  },
  {
   "cell_type": "code",
   "execution_count": 2,
   "metadata": {},
   "outputs": [],
   "source": [
    "disconnect()"
   ]
  },
  {
   "cell_type": "code",
   "execution_count": 3,
   "metadata": {},
   "outputs": [],
   "source": [
    "# Connect to the local MongoDB instance\n",
    "localDb = connect(host='mongodb://localhost/contactData')"
   ]
  },
  {
   "cell_type": "code",
   "execution_count": 10,
   "metadata": {},
   "outputs": [],
   "source": [
    "class Department(Document):\n",
    "    name = StringField()\n",
    "    benefits = ListField(StringField())"
   ]
  },
  {
   "cell_type": "code",
   "execution_count": 11,
   "metadata": {},
   "outputs": [],
   "source": [
    "class Employee(Document):\n",
    "    first_name = StringField(required=True)\n",
    "    last_name = StringField(required=True)\n",
    "    phone = StringField(required=True)\n",
    "    email = EmailField(required=True, unique=True)\n",
    "    address = StringField(required=True)\n",
    "    salary = FloatField(required=True, min_value=5000)\n",
    "    department = ReferenceField(Department, reverse_delete_rule=NULLIFY)"
   ]
  },
  {
   "cell_type": "code",
   "execution_count": 12,
   "metadata": {},
   "outputs": [
    {
     "data": {
      "text/plain": [
       "<Department: Department object>"
      ]
     },
     "execution_count": 12,
     "metadata": {},
     "output_type": "execute_result"
    }
   ],
   "source": [
    "dept = Department()\n",
    "dept.name = \"IT\"\n",
    "dept.benefits = ['Mobile Allowance', 'Medical insurance']\n",
    "dept.save()"
   ]
  },
  {
   "cell_type": "code",
   "execution_count": 16,
   "metadata": {},
   "outputs": [
    {
     "data": {
      "text/plain": [
       "<Employee: Employee object>"
      ]
     },
     "execution_count": 16,
     "metadata": {},
     "output_type": "execute_result"
    }
   ],
   "source": [
    "emp = Employee()\n",
    "emp.first_name = 'JOOLA'\n",
    "emp.last_name = 'John'\n",
    "emp.phone = '666666666'\n",
    "emp.email = 'JOOLA@n.com'\n",
    "emp.address = '6 Dafna st'\n",
    "emp.salary = 10000\n",
    "emp.department = dept\n",
    "emp.save()"
   ]
  },
  {
   "cell_type": "code",
   "execution_count": 14,
   "metadata": {},
   "outputs": [],
   "source": [
    "dept.delete()\n"
   ]
  },
  {
   "cell_type": "code",
   "execution_count": null,
   "metadata": {},
   "outputs": [],
   "source": []
  }
 ],
 "metadata": {
  "kernelspec": {
   "display_name": "Python 3 (ipykernel)",
   "language": "python",
   "name": "python3"
  },
  "language_info": {
   "codemirror_mode": {
    "name": "ipython",
    "version": 3
   },
   "file_extension": ".py",
   "mimetype": "text/x-python",
   "name": "python",
   "nbconvert_exporter": "python",
   "pygments_lexer": "ipython3",
   "version": "3.10.9"
  }
 },
 "nbformat": 4,
 "nbformat_minor": 4
}
