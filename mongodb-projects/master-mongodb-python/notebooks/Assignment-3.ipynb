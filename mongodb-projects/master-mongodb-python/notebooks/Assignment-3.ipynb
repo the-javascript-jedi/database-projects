{
 "cells": [
  {
   "cell_type": "markdown",
   "metadata": {},
   "source": [
    "## Assignment 3\n",
    "\n",
    "create a separate file for the models created in the last assignment\n",
    "\n",
    "\n",
    "\n",
    "create a file called controller.py that will contain the following\n",
    "\n",
    "create a function for each of the CRUD operations\n",
    "\n",
    "for adding employee create_employee(data)\n",
    "\n",
    "deleting employee by email delete_employee(email, data)\n",
    "\n",
    "querying employee by email get_employee(email)\n",
    "\n",
    "modifying employee by email delete_employee(email)\n",
    "\n",
    "\n",
    "\n",
    "do the same for the department\n",
    "\n",
    "adding department\n",
    "\n",
    "deleting dept by name\n",
    "\n",
    "querying dept by name\n",
    "\n",
    "modifying dept by name\n",
    "\n",
    "\n",
    "\n",
    "create 3 departments (IT, Finance, Sales)\n",
    "\n",
    "as per the following, these data will be passed to the function to create the department\n",
    "\n",
    "dept1 = {'name': 'IT', 'benefits': ['Medical Insurance', 'Transportation', 'Mobile Allowance']}\n",
    "dept2 = {'name': 'Finance', 'benefits': ['Medical Insurance', 'Mobile Allowance']}\n",
    "dept3 = {'name': 'Sales', 'benefits': ['Medical Insurance', 'Mobile Allowance']}\n",
    "create 5 employees as follows\n",
    "\n",
    "emp1 = {'first_name': 'Tom', 'last_name': 'John', 'phone': '11111111', 'email': 't.john@gmail.com', 'address': '6 Hanway St.', 'salary': 15000} assigned to the IT department\n",
    "emp2 = {'first_name': 'Tim', 'last_name': 'Hardy', 'phone': '2222222', 'email': 't.hardy@gmail.com', address': '3 Henry St.', 'salary': 18000} assigned to the IT department\n",
    " \n",
    "emp3 = {'first_name': 'Jack', 'last_name': 'Benny', 'phone': '33333333', 'email': 'j.benny@gmail.com', 'ddress': '6 Hamelton St.', 'salary': 20000} assigned to the finance department\n",
    " \n",
    "emp4 = {'first_name': 'John', 'last_name': 'Rock', 'phone': '455454545', 'email': 'j.rock@gmail.com', 'address': '19 Gary St.', 'salary': 25000} assigned to the sales department\n",
    " \n",
    "emp5 = {'first_name': 'Roman', 'last_name': 'Benny', 'phone': '6161646767', 'email': 'r.benny@gmail.com', 'address': '6 Crimson St.', 'salary': 23000} assigned to the sales department\n",
    "\n",
    "\n",
    "test the CRUD operations for employee and department i.e. delete department and employee, update and query department and employee\n",
    "\n",
    "Questions for this assignment\n",
    "Did you successfully create the CRUD operations?"
   ]
  },
  {
   "cell_type": "code",
   "execution_count": 14,
   "metadata": {},
   "outputs": [],
   "source": [
    "from mongoengine import *"
   ]
  },
  {
   "cell_type": "code",
   "execution_count": 15,
   "metadata": {},
   "outputs": [],
   "source": [
    "# Define the models in the Jupyter notebook (assuming this would be in model.py)\n",
    "class Department(Document):\n",
    "    name = StringField(required=True, unique=True)\n",
    "    benefits = ListField(StringField())\n",
    "\n",
    "class Employee(Document):\n",
    "    first_name = StringField(required=True)\n",
    "    last_name = StringField(required=True)\n",
    "    phone = StringField(required=True)\n",
    "    email = StringField(required=True, unique=True)\n",
    "    address = StringField(required=True)\n",
    "    salary = IntField(required=True)\n",
    "    department = ReferenceField(Department)"
   ]
  },
  {
   "cell_type": "code",
   "execution_count": 16,
   "metadata": {},
   "outputs": [],
   "source": [
    "def create_employee(data):\n",
    "    emp = Employee()\n",
    "    emp.first_name = data['first_name']\n",
    "    emp.last_name = data['last_name']\n",
    "    emp.phone = data['phone']\n",
    "    emp.email = data['email']\n",
    "    emp.address = data['address']\n",
    "    emp.salary = data['salary']\n",
    "    emp.department = data['department']\n",
    "    emp.save()\n",
    "\n",
    "\n",
    "def edit_employee(email, data):\n",
    "    emp = Employee.objects(email=email).first()\n",
    "    emp.first_name = data['first_name']\n",
    "    emp.last_name = data['last_name']\n",
    "    emp.phone = data['phone']\n",
    "    emp.email = email\n",
    "    emp.address = data['address']\n",
    "    emp.salary = data['salary']\n",
    "    emp.department = data['department']\n",
    "    emp.save()\n",
    "\n",
    "\n",
    "def get_employee(email):\n",
    "    emp = Employee.objects(email=email).first()\n",
    "    return emp\n",
    "\n",
    "\n",
    "def delete_employee(email):\n",
    "    emp = Employee.objects(email=email).first()\n",
    "    emp.delete()\n",
    "\n",
    "\n",
    "def create_department(data):\n",
    "    dept = Department()\n",
    "    dept.name = data['name']\n",
    "    dept.benefits = data['benefits']\n",
    "    dept.save()\n",
    "\n",
    "\n",
    "def edit_department(name, data):\n",
    "    dept = Department.objects(name=name).first()\n",
    "    dept.benefits = data['benefits']\n",
    "    dept.save()\n",
    "\n",
    "\n",
    "def get_department(name):\n",
    "    dept = Department.objects(name=name).first()\n",
    "    return dept\n",
    "\n",
    "\n",
    "def delete_department(name):\n",
    "    dept = Department.objects(name=name).first()\n",
    "    dept.delete()"
   ]
  },
  {
   "cell_type": "code",
   "execution_count": 17,
   "metadata": {},
   "outputs": [
    {
     "data": {
      "text/plain": [
       "MongoClient(host=['localhost:27017'], document_class=dict, tz_aware=False, connect=True, read_preference=Primary(), uuidrepresentation=3, driver=DriverInfo(name='MongoEngine', version='0.28.2', platform=None))"
      ]
     },
     "execution_count": 17,
     "metadata": {},
     "output_type": "execute_result"
    }
   ],
   "source": [
    "connect()"
   ]
  },
  {
   "cell_type": "code",
   "execution_count": 12,
   "metadata": {},
   "outputs": [],
   "source": [
    "# create 3 departments\n",
    "dept_dict = {'name': 'IT', 'benefits': ['Medical Insurance', 'Transportation', 'Mobile Allowance']}\n",
    "create_department(dept_dict)\n",
    "dept_dict = {'name': 'Finance', 'benefits': ['Medical Insurance', 'Mobile Allowance']}\n",
    "create_department(dept_dict)\n",
    "dept_dict = {'name': 'Sales', 'benefits': ['Medical Insurance', 'Mobile Allowance']}\n",
    "create_department(dept_dict)"
   ]
  },
  {
   "cell_type": "code",
   "execution_count": null,
   "metadata": {},
   "outputs": [],
   "source": [
    "# delete IT department\n",
    "dept = get_department('IT')\n",
    "delete_department('IT')\n",
    "# Update the benefits option\n",
    "dept_dict = {'benefits': ['Medical Insurance', 'Mobile Allowance', 'Transportation']}\n",
    "edit_department(name='Finance', data=dept_dict)"
   ]
  },
  {
   "cell_type": "code",
   "execution_count": 19,
   "metadata": {},
   "outputs": [],
   "source": [
    "# create an employee and pass the referencefield to the department \n",
    "dept = get_department('IT') \n",
    "emp_dict = {'first_name': 'Tom second', 'last_name': 'John second', 'phone': '11111111', 'email': 't.john@gmail.com',\n",
    "            'address': '6 Hanway St.', 'salary': 15000, 'department': dept}\n",
    "create_employee(emp_dict)"
   ]
  },
  {
   "cell_type": "code",
   "execution_count": 20,
   "metadata": {},
   "outputs": [],
   "source": [
    "# create an employee and pass the referencefield to the department IT\n",
    "dept = get_department('IT')\n",
    "emp_dict = {'first_name': 'Tim', 'last_name': 'Hardy', 'phone': '2222222', 'email': 't.hardy@gmail.com',\n",
    "            'address': '3 Henry St.', 'salary': 18000, 'department': dept}\n",
    "create_employee(emp_dict)"
   ]
  },
  {
   "cell_type": "code",
   "execution_count": 21,
   "metadata": {},
   "outputs": [],
   "source": [
    "# create an employee and pass the referencefield to the department Finance\n",
    "dept = get_department('Finance')\n",
    "emp_dict = {'first_name': 'Jack', 'last_name': 'Benny', 'phone': '33333333', 'email': 'j.benny@gmail.com',\n",
    "            'address': '6 Hamelton St.', 'salary': 20000, 'department': dept}\n",
    "create_employee(emp_dict)"
   ]
  },
  {
   "cell_type": "code",
   "execution_count": 22,
   "metadata": {},
   "outputs": [],
   "source": [
    "# create an employee and pass the referencefield to the department Sales\n",
    "dept = get_department('Sales')\n",
    "emp_dict = {'first_name': 'John', 'last_name': 'Rock', 'phone': '455454545', 'email': 'j.rock@gmail.com',\n",
    "            'address': '19 Gary St.', 'salary': 25000, 'department': dept}\n",
    "create_employee(emp_dict)"
   ]
  },
  {
   "cell_type": "code",
   "execution_count": 23,
   "metadata": {},
   "outputs": [
    {
     "data": {
      "text/plain": [
       "<Employee: Employee object>"
      ]
     },
     "execution_count": 23,
     "metadata": {},
     "output_type": "execute_result"
    }
   ],
   "source": [
    "# create an employee and pass the referencefield to the department Sales\n",
    "dept = get_department('Sales')\n",
    "emp_dict = {'first_name': 'Roman', 'last_name': 'Benny', 'phone': '6161646767', 'email': 'r.benny@gmail.com',\n",
    "            'address': '6 Crimson St.', 'salary': 23000, 'department': dept}\n",
    "create_employee(emp_dict)\n",
    "\n"
   ]
  },
  {
   "cell_type": "code",
   "execution_count": 26,
   "metadata": {},
   "outputs": [
    {
     "data": {
      "text/plain": [
       "'Roman'"
      ]
     },
     "execution_count": 26,
     "metadata": {},
     "output_type": "execute_result"
    }
   ],
   "source": [
    "# find the employee using email\n",
    "employeeGet=get_employee('r.benny@gmail.com')\n",
    "employeeGet.first_name"
   ]
  },
  {
   "cell_type": "code",
   "execution_count": 28,
   "metadata": {},
   "outputs": [],
   "source": [
    "# update employee\n",
    "dept = get_department('Finance')\n",
    "emp_dict = {'first_name': 'Roman mod', 'last_name': 'Benny mods', 'phone': '123963',\n",
    "            'address': '6 Crimson St. mod', 'salary': 90000, 'department': dept}\n",
    "edit_employee('r.benny@gmail.com', emp_dict)"
   ]
  },
  {
   "cell_type": "code",
   "execution_count": 29,
   "metadata": {},
   "outputs": [],
   "source": [
    "# delete employee\n",
    "delete_employee('r.benny@gmail.com')"
   ]
  },
  {
   "cell_type": "code",
   "execution_count": null,
   "metadata": {},
   "outputs": [],
   "source": []
  },
  {
   "cell_type": "code",
   "execution_count": null,
   "metadata": {},
   "outputs": [],
   "source": []
  },
  {
   "cell_type": "code",
   "execution_count": null,
   "metadata": {},
   "outputs": [],
   "source": []
  }
 ],
 "metadata": {
  "kernelspec": {
   "display_name": "Python 3 (ipykernel)",
   "language": "python",
   "name": "python3"
  },
  "language_info": {
   "codemirror_mode": {
    "name": "ipython",
    "version": 3
   },
   "file_extension": ".py",
   "mimetype": "text/x-python",
   "name": "python",
   "nbconvert_exporter": "python",
   "pygments_lexer": "ipython3",
   "version": "3.10.9"
  }
 },
 "nbformat": 4,
 "nbformat_minor": 4
}
