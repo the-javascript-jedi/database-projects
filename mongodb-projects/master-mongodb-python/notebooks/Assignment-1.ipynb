{
 "cells": [
  {
   "cell_type": "markdown",
   "metadata": {},
   "source": [
    "# Creating Documents"
   ]
  },
  {
   "cell_type": "code",
   "execution_count": 9,
   "metadata": {},
   "outputs": [],
   "source": [
    "from mongoengine import *"
   ]
  },
  {
   "cell_type": "code",
   "execution_count": 12,
   "metadata": {},
   "outputs": [],
   "source": [
    "disconnect()"
   ]
  },
  {
   "cell_type": "code",
   "execution_count": 13,
   "metadata": {},
   "outputs": [],
   "source": [
    "# Connect to the local MongoDB instance\n",
    "localDb = connect(host='mongodb://localhost/contactData')"
   ]
  },
  {
   "cell_type": "code",
   "execution_count": 14,
   "metadata": {},
   "outputs": [],
   "source": [
    "# Custom validator function for salary\n",
    "def validate_salary(value):\n",
    "    if value < 5000:\n",
    "        raise ValidationError(\"Salary cannot be less than 5000\")"
   ]
  },
  {
   "cell_type": "code",
   "execution_count": 15,
   "metadata": {},
   "outputs": [],
   "source": [
    "# Define the document schema for the employee collection\n",
    "class Employee(Document):\n",
    "    first_name = StringField(required=True, max_length=100)\n",
    "    last_name = StringField(required=True, max_length=100)\n",
    "    phone = StringField(max_length=20, required=True)\n",
    "    email = EmailField(required=True, unique=True)\n",
    "    address = StringField(required=True)\n",
    "    salary = DecimalField(precision=2, required=True, validation=validate_salary)\n",
    "\n",
    "    meta = {'collection': 'employee'}  # Name of the collection in the database\n",
    "\n",
    "    # Ensure no field is empty\n",
    "    def clean(self):\n",
    "        if not self.first_name:\n",
    "            raise ValidationError(\"First name cannot be empty\")\n",
    "        if not self.last_name:\n",
    "            raise ValidationError(\"Last name cannot be empty\")\n",
    "        if not self.phone:\n",
    "            raise ValidationError(\"Phone cannot be empty\")\n",
    "        if not self.address:\n",
    "            raise ValidationError(\"Address cannot be empty\")"
   ]
  },
  {
   "cell_type": "code",
   "execution_count": 16,
   "metadata": {},
   "outputs": [
    {
     "name": "stdout",
     "output_type": "stream",
     "text": [
      "John Doe 123-456-7890 john.doe@example.com 123 Main St, City, Country 6000.00\n"
     ]
    }
   ],
   "source": [
    "# Create an instance of the Employee document\n",
    "new_employee = Employee(\n",
    "    first_name=\"John\",\n",
    "    last_name=\"Doe\",\n",
    "    phone=\"123-456-7890\",\n",
    "    email=\"john.doe@example.com\",\n",
    "    address=\"123 Main St, City, Country\",\n",
    "    salary=6000.00  # Assuming salary is above the minimum required\n",
    ")\n",
    "\n",
    "try:\n",
    "    # Save the document to the database\n",
    "    new_employee.save()\n",
    "\n",
    "    # Verify the insertion by fetching all documents in the employee collection\n",
    "    for emp in Employee.objects:\n",
    "        print(emp.first_name, emp.last_name, emp.phone, emp.email, emp.address, emp.salary)\n",
    "\n",
    "except ValidationError as e:\n",
    "    print(f\"Validation Error: {e}\")\n",
    "except NotUniqueError:\n",
    "    print(\"Email must be unique\")\n",
    "except Exception as e:\n",
    "    print(f\"Error: {e}\")"
   ]
  },
  {
   "cell_type": "code",
   "execution_count": null,
   "metadata": {},
   "outputs": [],
   "source": []
  },
  {
   "cell_type": "code",
   "execution_count": null,
   "metadata": {},
   "outputs": [],
   "source": []
  }
 ],
 "metadata": {
  "kernelspec": {
   "display_name": "Python 3 (ipykernel)",
   "language": "python",
   "name": "python3"
  },
  "language_info": {
   "codemirror_mode": {
    "name": "ipython",
    "version": 3
   },
   "file_extension": ".py",
   "mimetype": "text/x-python",
   "name": "python",
   "nbconvert_exporter": "python",
   "pygments_lexer": "ipython3",
   "version": "3.10.9"
  }
 },
 "nbformat": 4,
 "nbformat_minor": 4
}
