{
 "cells": [
  {
   "cell_type": "markdown",
   "id": "31010f21",
   "metadata": {},
   "source": [
    "# MongoDB Update Functionality\n",
    "\n",
    "Go over ways to update entries in MongoDB in pymongo"
   ]
  },
  {
   "cell_type": "code",
   "execution_count": 5,
   "id": "07599bc2",
   "metadata": {},
   "outputs": [],
   "source": [
    "import pymongo\n",
    "from pymongo import MongoClient"
   ]
  },
  {
   "cell_type": "markdown",
   "id": "ac3f352e",
   "metadata": {},
   "source": [
    "### Initalize A Client, Connect To DB, Speicfy Collection"
   ]
  },
  {
   "cell_type": "code",
   "execution_count": 6,
   "id": "707dc3c1",
   "metadata": {},
   "outputs": [],
   "source": [
    "client = MongoClient(\"mongodb://localhost:27017/\")\n",
    "db = client[\"my_store\"]\n",
    "products_col = db[\"products\"]"
   ]
  },
  {
   "cell_type": "markdown",
   "id": "6319cdac",
   "metadata": {},
   "source": [
    "### update()\n",
    "*Depreceated, do not use in your applications*"
   ]
  },
  {
   "cell_type": "code",
   "execution_count": 7,
   "id": "8b54bcae",
   "metadata": {},
   "outputs": [
    {
     "ename": "TypeError",
     "evalue": "'Collection' object is not callable. If you meant to call the 'update' method on a 'Collection' object it is failing because no such method exists.",
     "output_type": "error",
     "traceback": [
      "\u001b[1;31m---------------------------------------------------------------------------\u001b[0m",
      "\u001b[1;31mTypeError\u001b[0m                                 Traceback (most recent call last)",
      "Cell \u001b[1;32mIn[7], line 1\u001b[0m\n\u001b[1;32m----> 1\u001b[0m \u001b[43mproducts_col\u001b[49m\u001b[38;5;241;43m.\u001b[39;49m\u001b[43mupdate\u001b[49m\u001b[43m(\u001b[49m\u001b[43m{\u001b[49m\u001b[38;5;124;43m\"\u001b[39;49m\u001b[38;5;124;43mname\u001b[39;49m\u001b[38;5;124;43m\"\u001b[39;49m\u001b[43m:\u001b[49m\u001b[38;5;124;43m\"\u001b[39;49m\u001b[38;5;124;43mPens\u001b[39;49m\u001b[38;5;124;43m\"\u001b[39;49m\u001b[43m}\u001b[49m\u001b[43m,\u001b[49m\u001b[43m{\u001b[49m\u001b[38;5;124;43m\"\u001b[39;49m\u001b[38;5;124;43m$set\u001b[39;49m\u001b[38;5;124;43m\"\u001b[39;49m\u001b[43m:\u001b[49m\u001b[43m{\u001b[49m\u001b[38;5;124;43m\"\u001b[39;49m\u001b[38;5;124;43mprice\u001b[39;49m\u001b[38;5;124;43m\"\u001b[39;49m\u001b[43m:\u001b[49m\u001b[38;5;241;43m9.57\u001b[39;49m\u001b[43m}\u001b[49m\u001b[43m}\u001b[49m\u001b[43m)\u001b[49m\n",
      "File \u001b[1;32m~\\anaconda3\\envs\\mongodb_py\\lib\\site-packages\\pymongo\\collection.py:3213\u001b[0m, in \u001b[0;36mCollection.__call__\u001b[1;34m(self, *args, **kwargs)\u001b[0m\n\u001b[0;32m   3206\u001b[0m \u001b[38;5;28;01mif\u001b[39;00m \u001b[38;5;124m\"\u001b[39m\u001b[38;5;124m.\u001b[39m\u001b[38;5;124m\"\u001b[39m \u001b[38;5;129;01mnot\u001b[39;00m \u001b[38;5;129;01min\u001b[39;00m \u001b[38;5;28mself\u001b[39m\u001b[38;5;241m.\u001b[39m__name:\n\u001b[0;32m   3207\u001b[0m     \u001b[38;5;28;01mraise\u001b[39;00m \u001b[38;5;167;01mTypeError\u001b[39;00m(\n\u001b[0;32m   3208\u001b[0m         \u001b[38;5;124m\"\u001b[39m\u001b[38;5;124m'\u001b[39m\u001b[38;5;124mCollection\u001b[39m\u001b[38;5;124m'\u001b[39m\u001b[38;5;124m object is not callable. If you \u001b[39m\u001b[38;5;124m\"\u001b[39m\n\u001b[0;32m   3209\u001b[0m         \u001b[38;5;124m\"\u001b[39m\u001b[38;5;124mmeant to call the \u001b[39m\u001b[38;5;124m'\u001b[39m\u001b[38;5;132;01m%s\u001b[39;00m\u001b[38;5;124m'\u001b[39m\u001b[38;5;124m method on a \u001b[39m\u001b[38;5;124m'\u001b[39m\u001b[38;5;124mDatabase\u001b[39m\u001b[38;5;124m'\u001b[39m\u001b[38;5;124m \u001b[39m\u001b[38;5;124m\"\u001b[39m\n\u001b[0;32m   3210\u001b[0m         \u001b[38;5;124m\"\u001b[39m\u001b[38;5;124mobject it is failing because no such method \u001b[39m\u001b[38;5;124m\"\u001b[39m\n\u001b[0;32m   3211\u001b[0m         \u001b[38;5;124m\"\u001b[39m\u001b[38;5;124mexists.\u001b[39m\u001b[38;5;124m\"\u001b[39m \u001b[38;5;241m%\u001b[39m \u001b[38;5;28mself\u001b[39m\u001b[38;5;241m.\u001b[39m__name\n\u001b[0;32m   3212\u001b[0m     )\n\u001b[1;32m-> 3213\u001b[0m \u001b[38;5;28;01mraise\u001b[39;00m \u001b[38;5;167;01mTypeError\u001b[39;00m(\n\u001b[0;32m   3214\u001b[0m     \u001b[38;5;124m\"\u001b[39m\u001b[38;5;124m'\u001b[39m\u001b[38;5;124mCollection\u001b[39m\u001b[38;5;124m'\u001b[39m\u001b[38;5;124m object is not callable. If you meant to \u001b[39m\u001b[38;5;124m\"\u001b[39m\n\u001b[0;32m   3215\u001b[0m     \u001b[38;5;124m\"\u001b[39m\u001b[38;5;124mcall the \u001b[39m\u001b[38;5;124m'\u001b[39m\u001b[38;5;132;01m%s\u001b[39;00m\u001b[38;5;124m'\u001b[39m\u001b[38;5;124m method on a \u001b[39m\u001b[38;5;124m'\u001b[39m\u001b[38;5;124mCollection\u001b[39m\u001b[38;5;124m'\u001b[39m\u001b[38;5;124m object it is \u001b[39m\u001b[38;5;124m\"\u001b[39m\n\u001b[0;32m   3216\u001b[0m     \u001b[38;5;124m\"\u001b[39m\u001b[38;5;124mfailing because no such method exists.\u001b[39m\u001b[38;5;124m\"\u001b[39m \u001b[38;5;241m%\u001b[39m \u001b[38;5;28mself\u001b[39m\u001b[38;5;241m.\u001b[39m__name\u001b[38;5;241m.\u001b[39msplit(\u001b[38;5;124m\"\u001b[39m\u001b[38;5;124m.\u001b[39m\u001b[38;5;124m\"\u001b[39m)[\u001b[38;5;241m-\u001b[39m\u001b[38;5;241m1\u001b[39m]\n\u001b[0;32m   3217\u001b[0m )\n",
      "\u001b[1;31mTypeError\u001b[0m: 'Collection' object is not callable. If you meant to call the 'update' method on a 'Collection' object it is failing because no such method exists."
     ]
    }
   ],
   "source": [
    "products_col.update({\"name\":\"Pens\"},{\"$set\":{\"price\":9.57}})"
   ]
  },
  {
   "cell_type": "markdown",
   "id": "8733e8d2",
   "metadata": {},
   "source": [
    "### update_one()"
   ]
  },
  {
   "cell_type": "code",
   "execution_count": 17,
   "id": "0bfd3851",
   "metadata": {},
   "outputs": [],
   "source": [
    "update_one_res=products_col.update_one({\"name\":\"Bag\"},{\"$set\":{\"price\":26.78}})"
   ]
  },
  {
   "cell_type": "code",
   "execution_count": 18,
   "id": "dae2a3f6",
   "metadata": {},
   "outputs": [
    {
     "name": "stdout",
     "output_type": "stream",
     "text": [
      "update_one_res.acknowledged True\n",
      "update_one_res.matched_count 0\n",
      "update_one_res.modified_count 0\n",
      "update_one_res.raw_result {'n': 0, 'nModified': 0, 'ok': 1.0, 'updatedExisting': False}\n",
      "update_one_res.upserted_id None\n"
     ]
    }
   ],
   "source": [
    "print(\"update_one_res.acknowledged\",update_one_res.acknowledged)\n",
    "print(\"update_one_res.matched_count\",update_one_res.matched_count)\n",
    "print(\"update_one_res.modified_count\",update_one_res.modified_count)\n",
    "print(\"update_one_res.raw_result\",update_one_res.raw_result)\n",
    "print(\"update_one_res.upserted_id\",update_one_res.upserted_id)"
   ]
  },
  {
   "cell_type": "code",
   "execution_count": null,
   "id": "4ad320c1",
   "metadata": {},
   "outputs": [],
   "source": []
  },
  {
   "cell_type": "markdown",
   "id": "d7a997b1",
   "metadata": {},
   "source": [
    "### replace_one()"
   ]
  },
  {
   "cell_type": "code",
   "execution_count": 19,
   "id": "d959fa43",
   "metadata": {},
   "outputs": [],
   "source": [
    "# replace_one is similar to update_one but it wil replace the entire entry with the new one\n",
    "replace_one_res=products_col.replace_one({\"name\":\"Bag\"},{\"product_name\":\"Bag\",\"price\":25.76,\"seller\":\"Raymond\"})"
   ]
  },
  {
   "cell_type": "code",
   "execution_count": 20,
   "id": "f1ed7024",
   "metadata": {},
   "outputs": [
    {
     "name": "stdout",
     "output_type": "stream",
     "text": [
      "replace_one_res.acknowledged True\n",
      "replace_one_res.matched_count 0\n",
      "replace_one_res.modified_count 0\n",
      "replace_one_res.raw_result {'n': 0, 'nModified': 0, 'ok': 1.0, 'updatedExisting': False}\n",
      "replace_one_res.upserted_id None\n"
     ]
    }
   ],
   "source": [
    "print(\"replace_one_res.acknowledged\",replace_one_res.acknowledged)\n",
    "print(\"replace_one_res.matched_count\",replace_one_res.matched_count)\n",
    "print(\"replace_one_res.modified_count\",replace_one_res.modified_count)\n",
    "print(\"replace_one_res.raw_result\",replace_one_res.raw_result)\n",
    "print(\"replace_one_res.upserted_id\",replace_one_res.upserted_id)"
   ]
  },
  {
   "cell_type": "markdown",
   "id": "7c7df700",
   "metadata": {},
   "source": [
    "### update_many()"
   ]
  },
  {
   "cell_type": "code",
   "execution_count": 24,
   "id": "0dc9ecc6",
   "metadata": {},
   "outputs": [],
   "source": [
    "update_many_res=products_col.update_many({\"name\":\"Pens\"},{\"$set\":{\"price\":11.54}})"
   ]
  },
  {
   "cell_type": "code",
   "execution_count": 25,
   "id": "47d8a199",
   "metadata": {},
   "outputs": [
    {
     "name": "stdout",
     "output_type": "stream",
     "text": [
      "update_many_res.acknowledged True\n",
      "update_many_res.matched_count 2\n",
      "update_many_res.modified_count 2\n",
      "update_many_res.raw_result {'n': 2, 'nModified': 2, 'ok': 1.0, 'updatedExisting': True}\n",
      "update_many_res.upserted_id None\n"
     ]
    }
   ],
   "source": [
    "print(\"update_many_res.acknowledged\",update_many_res.acknowledged)\n",
    "print(\"update_many_res.matched_count\",update_many_res.matched_count)\n",
    "print(\"update_many_res.modified_count\",update_many_res.modified_count)\n",
    "print(\"update_many_res.raw_result\",update_many_res.raw_result)\n",
    "print(\"update_many_res.upserted_id\",update_many_res.upserted_id)"
   ]
  },
  {
   "cell_type": "markdown",
   "id": "cf165ba7",
   "metadata": {},
   "source": [
    "### upserting"
   ]
  },
  {
   "cell_type": "code",
   "execution_count": null,
   "id": "b0a6a3fb",
   "metadata": {},
   "outputs": [],
   "source": [
    "# upsert is update and insert combined\n",
    "# if update query does not find any matching documents to update it will insert a new row"
   ]
  },
  {
   "cell_type": "code",
   "execution_count": 28,
   "id": "28846f1e",
   "metadata": {},
   "outputs": [],
   "source": [
    "# we should add upsert=True and this will add a new row if data is not present\n",
    "update_upsert_res=products_col.update_many({\"name\":\"Hats\"},{\"$set\":{\"price\":11.53}},upsert=True)"
   ]
  },
  {
   "cell_type": "code",
   "execution_count": 29,
   "id": "acb48dc7",
   "metadata": {},
   "outputs": [
    {
     "name": "stdout",
     "output_type": "stream",
     "text": [
      "update_upsert_res.acknowledged True\n",
      "update_upsert_res.matched_count 0\n",
      "update_upsert_res.modified_count 0\n",
      "update_upsert_res.raw_result {'n': 1, 'upserted': ObjectId('6447ee34922da4485312facd'), 'nModified': 0, 'ok': 1.0, 'updatedExisting': False}\n",
      "update_upsert_res.upserted_id 6447ee34922da4485312facd\n"
     ]
    }
   ],
   "source": [
    "print(\"update_upsert_res.acknowledged\",update_upsert_res.acknowledged)\n",
    "print(\"update_upsert_res.matched_count\",update_upsert_res.matched_count)\n",
    "print(\"update_upsert_res.modified_count\",update_upsert_res.modified_count)\n",
    "print(\"update_upsert_res.raw_result\",update_upsert_res.raw_result)\n",
    "print(\"update_upsert_res.upserted_id\",update_upsert_res.upserted_id)"
   ]
  },
  {
   "cell_type": "markdown",
   "id": "b8e6c6e3",
   "metadata": {},
   "source": [
    "### Update Operators"
   ]
  },
  {
   "cell_type": "code",
   "execution_count": 30,
   "id": "c89e89ce",
   "metadata": {},
   "outputs": [
    {
     "data": {
      "text/plain": [
       "<pymongo.results.UpdateResult at 0x1f80fb1d7f0>"
      ]
     },
     "execution_count": 30,
     "metadata": {},
     "output_type": "execute_result"
    }
   ],
   "source": [
    "# add the current date to a new field date\n",
    "products_col.update_many({},{\"$currentDate\":{\"date\":True}})"
   ]
  },
  {
   "cell_type": "code",
   "execution_count": 31,
   "id": "1da4fbe9",
   "metadata": {},
   "outputs": [
    {
     "data": {
      "text/plain": [
       "<pymongo.results.UpdateResult at 0x1f8114af6d0>"
      ]
     },
     "execution_count": 31,
     "metadata": {},
     "output_type": "execute_result"
    }
   ],
   "source": [
    "# modify the date field to date_added\n",
    "products_col.update_many({},{\"$rename\":{\"date\":\"date_added\"}})"
   ]
  },
  {
   "cell_type": "code",
   "execution_count": 32,
   "id": "e11b057a",
   "metadata": {},
   "outputs": [
    {
     "data": {
      "text/plain": [
       "<pymongo.results.UpdateResult at 0x1f812831a60>"
      ]
     },
     "execution_count": 32,
     "metadata": {},
     "output_type": "execute_result"
    }
   ],
   "source": [
    "# multiply the column price with a specified value\n",
    "products_col.update_many({},{\"$mul\":{\"price\":1.04}})"
   ]
  },
  {
   "cell_type": "code",
   "execution_count": 33,
   "id": "749bb365",
   "metadata": {},
   "outputs": [
    {
     "data": {
      "text/plain": [
       "<pymongo.results.UpdateResult at 0x1f8127e38e0>"
      ]
     },
     "execution_count": 33,
     "metadata": {},
     "output_type": "execute_result"
    }
   ],
   "source": [
    "# remove the particular entry\n",
    "products_col.update_many({},{\"$unset\":{\"date_added\":True}})"
   ]
  },
  {
   "cell_type": "code",
   "execution_count": null,
   "id": "873f792b",
   "metadata": {},
   "outputs": [],
   "source": []
  }
 ],
 "metadata": {
  "kernelspec": {
   "display_name": "Python 3 (ipykernel)",
   "language": "python",
   "name": "python3"
  },
  "language_info": {
   "codemirror_mode": {
    "name": "ipython",
    "version": 3
   },
   "file_extension": ".py",
   "mimetype": "text/x-python",
   "name": "python",
   "nbconvert_exporter": "python",
   "pygments_lexer": "ipython3",
   "version": "3.8.16"
  }
 },
 "nbformat": 4,
 "nbformat_minor": 5
}
