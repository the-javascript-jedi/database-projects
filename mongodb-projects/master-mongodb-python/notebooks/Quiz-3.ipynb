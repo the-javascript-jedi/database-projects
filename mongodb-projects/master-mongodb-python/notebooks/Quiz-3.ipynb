{
 "cells": [
  {
   "cell_type": "markdown",
   "metadata": {},
   "source": [
    "## Quiz 3\n",
    "\n",
    "1)The following command will be executed on the database\n",
    "\n",
    "class Employee(Document):\n",
    "    firstname = StringField()\n",
    "    lastname = StringField()\n",
    "    salary = IntField()\n",
    " \n",
    "emp1 = Employee(firstname='Tom', lastname='Harry', salary=90000)\n",
    "emp2 = Employee(firstname='Tim', lastname='Jack', salary=100000)\n",
    "emp3 = Employee(firstname='John', lastname='Robert', salary=110000)\n",
    " \n",
    "emp1.save()\n",
    "emp2.save()\n",
    "emp3.save()\n",
    "\n",
    "\n",
    "What will be the output of the following expression:\n",
    "\n",
    "emp = Employee.objects(firstname__startswith='T').first()\n",
    "print(emp.lastname)\n",
    "    "
   ]
  },
  {
   "cell_type": "code",
   "execution_count": 2,
   "metadata": {},
   "outputs": [],
   "source": [
    "from mongoengine import *"
   ]
  },
  {
   "cell_type": "code",
   "execution_count": 3,
   "metadata": {},
   "outputs": [],
   "source": [
    "# Connect to the local MongoDB instance\n",
    "localDb = connect(host='mongodb://localhost/')"
   ]
  },
  {
   "cell_type": "code",
   "execution_count": 7,
   "metadata": {},
   "outputs": [
    {
     "data": {
      "text/plain": [
       "<Employee: Employee object>"
      ]
     },
     "execution_count": 7,
     "metadata": {},
     "output_type": "execute_result"
    }
   ],
   "source": [
    "class Employee(Document):\n",
    "    firstname = StringField()\n",
    "    lastname = StringField()\n",
    "    salary = IntField()\n",
    "    \n",
    "emp1 = Employee(\n",
    "    firstname='Tom', \n",
    "    lastname='Harry', \n",
    "    salary=90000)\n",
    "\n",
    "emp2 = Employee(\n",
    "    firstname='Tim', \n",
    "    lastname='Jack', \n",
    "    salary=100000) \n",
    "\n",
    "emp3 = Employee(\n",
    "    firstname='John', \n",
    "    lastname='Robert', \n",
    "    salary=110000)\n",
    "\n",
    "emp1.save() \n",
    "emp2.save()\n",
    "emp3.save()"
   ]
  },
  {
   "cell_type": "code",
   "execution_count": 8,
   "metadata": {},
   "outputs": [
    {
     "name": "stdout",
     "output_type": "stream",
     "text": [
      "Harry\n"
     ]
    }
   ],
   "source": [
    "emp = Employee.objects(firstname__startswith='T').first()\n",
    "print(emp.lastname)"
   ]
  },
  {
   "cell_type": "markdown",
   "metadata": {},
   "source": [
    "Question 2:\n",
    "The following command had been executed on the database\n",
    "\n",
    "\n",
    "\n",
    "class Employee(Document):\n",
    "    firstname = StringField()\n",
    "    lastname = StringField()\n",
    "    salary = IntField()\n",
    " \n",
    "emp1 = Employee(firstname='Tom', lastname='Harry', salary=90000)\n",
    "emp2 = Employee(firstname='Tim', lastname='Jack', salary=100000)\n",
    "emp3 = Employee(firstname='John', lastname='Robert', salary=110000)\n",
    " \n",
    "emp1.save()\n",
    "emp2.save()\n",
    "emp3.save()\n",
    "\n",
    "\n",
    "What will be the output of the following expression:\n",
    "\n",
    "emp = Employee.objects(salary__gte=95000).first()\n",
    "print(emp.lastname)"
   ]
  },
  {
   "cell_type": "code",
   "execution_count": null,
   "metadata": {},
   "outputs": [],
   "source": []
  }
 ],
 "metadata": {
  "kernelspec": {
   "display_name": "Python 3 (ipykernel)",
   "language": "python",
   "name": "python3"
  },
  "language_info": {
   "codemirror_mode": {
    "name": "ipython",
    "version": 3
   },
   "file_extension": ".py",
   "mimetype": "text/x-python",
   "name": "python",
   "nbconvert_exporter": "python",
   "pygments_lexer": "ipython3",
   "version": "3.10.9"
  }
 },
 "nbformat": 4,
 "nbformat_minor": 4
}
